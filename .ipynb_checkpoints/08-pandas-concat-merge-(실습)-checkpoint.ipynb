{
 "cells": [
  {
   "cell_type": "markdown",
   "metadata": {},
   "source": [
    "## 모듈 import"
   ]
  },
  {
   "cell_type": "code",
   "execution_count": null,
   "metadata": {
    "id": "RGhyFtVF0F0m"
   },
   "outputs": [],
   "source": [
    "from IPython.display import Image\n",
    "import numpy as np\n",
    "import pandas as pd\n",
    "import seaborn as sns"
   ]
  },
  {
   "cell_type": "markdown",
   "metadata": {},
   "source": [
    "## 데이터셋 로드"
   ]
  },
  {
   "cell_type": "code",
   "execution_count": null,
   "metadata": {},
   "outputs": [],
   "source": [
    "!pip install teddynote -q\n",
    "\n",
    "from teddynote import dataset"
   ]
  },
  {
   "cell_type": "code",
   "execution_count": null,
   "metadata": {},
   "outputs": [],
   "source": [
    "# 유가정보 데이터 다운로드\n",
    "dataset.download('유가정보')"
   ]
  },
  {
   "cell_type": "markdown",
   "metadata": {
    "id": "t4sKG8LPGvzM"
   },
   "source": [
    "**1월 부터 6월 까지 상반기** 데이터 로드"
   ]
  },
  {
   "cell_type": "code",
   "execution_count": null,
   "metadata": {
    "id": "UTxY9Uv0GvzM"
   },
   "outputs": [],
   "source": [
    "gas1 = pd.read_csv('data/gas_first_2019.csv', encoding='euc-kr')"
   ]
  },
  {
   "cell_type": "code",
   "execution_count": null,
   "metadata": {
    "colab": {
     "base_uri": "https://localhost:8080/",
     "height": 216
    },
    "id": "M0MBggJiGvzN",
    "outputId": "478a40b1-da37-4c80-bbb2-f07433bf0477"
   },
   "outputs": [],
   "source": [
    "print(gas1.shape)\n",
    "gas1.head()"
   ]
  },
  {
   "cell_type": "code",
   "execution_count": null,
   "metadata": {
    "id": "VRJ2Ta-UGvzO"
   },
   "outputs": [],
   "source": [
    "gas2 = pd.read_csv('data/gas_second_2019.csv', encoding='euc-kr')"
   ]
  },
  {
   "cell_type": "markdown",
   "metadata": {
    "id": "iF5cEaaSGvzP"
   },
   "source": [
    "**7월 부터 12월 까지 하반기** 데이터 로드"
   ]
  },
  {
   "cell_type": "code",
   "execution_count": null,
   "metadata": {
    "colab": {
     "base_uri": "https://localhost:8080/",
     "height": 216
    },
    "id": "eW0cIyKVGvzQ",
    "outputId": "50696950-0fc0-49bd-db12-f823a29e13d7"
   },
   "outputs": [],
   "source": [
    "print(gas2.shape)\n",
    "gas2.head()"
   ]
  },
  {
   "cell_type": "markdown",
   "metadata": {},
   "source": [
    "## concat() - 데이터 연결\n",
    "\n",
    "`concat()`은 DataFrame을 연결합니다.\n",
    "\n",
    "단순하게 지정한 DataFrame을 이어서 연결합니다."
   ]
  },
  {
   "cell_type": "markdown",
   "metadata": {
    "id": "YIgWNfDEGvzR"
   },
   "source": [
    "### 행 방향으로 연결\n",
    "\n",
    "기본 값인 `axis=0`이 지정되어 있고, 행 방향으로 연결합니다.\n",
    "\n",
    "또한, 같은 column을 알아서 찾아서 데이터를 연결합니다."
   ]
  },
  {
   "cell_type": "code",
   "execution_count": null,
   "metadata": {
    "colab": {
     "base_uri": "https://localhost:8080/",
     "height": 597
    },
    "id": "6PmCBYBhGvzR",
    "outputId": "0791bbec-4b44-4d76-eb08-318b41648b2f"
   },
   "outputs": [],
   "source": [
    "pd.concat([gas1, gas2])"
   ]
  },
  {
   "cell_type": "markdown",
   "metadata": {},
   "source": [
    "연결시 위와 같이 index가 초기화가 되지 않아 **전체 DataFrame의 개수와 index가 맞지 않는** 모습입니다."
   ]
  },
  {
   "cell_type": "code",
   "execution_count": null,
   "metadata": {},
   "outputs": [],
   "source": [
    "pd.concat([gas1, gas2]).iloc[90588:90593]"
   ]
  },
  {
   "cell_type": "markdown",
   "metadata": {},
   "source": [
    "연결 하면서 **index를 무시하고 연결** 할 수 있습니다."
   ]
  },
  {
   "cell_type": "code",
   "execution_count": null,
   "metadata": {
    "id": "gMHACUfDGvzT"
   },
   "outputs": [],
   "source": [
    "gas = pd.concat([gas1, gas2], ignore_index=True)\n",
    "gas"
   ]
  },
  {
   "cell_type": "markdown",
   "metadata": {
    "id": "1U2Ge3I4Gvzb"
   },
   "source": [
    "### 열 방향으로 연결\n",
    "\n",
    "열(column) 방향으로 연결 가능하며, `axis=1`로 지정합니다."
   ]
  },
  {
   "cell_type": "code",
   "execution_count": null,
   "metadata": {
    "id": "HdNL8G-5Gvzb"
   },
   "outputs": [],
   "source": [
    "# 실습을 위한 DataFrame 임의 분할\n",
    "gas1 = gas.iloc[:, :5]\n",
    "gas2 = gas.iloc[:, 5:]"
   ]
  },
  {
   "cell_type": "code",
   "execution_count": null,
   "metadata": {
    "colab": {
     "base_uri": "https://localhost:8080/",
     "height": 198
    },
    "id": "T9IqXjmxGvzc",
    "outputId": "e564e382-5155-4793-b374-6248af038eeb"
   },
   "outputs": [],
   "source": [
    "gas1.head()"
   ]
  },
  {
   "cell_type": "code",
   "execution_count": null,
   "metadata": {
    "colab": {
     "base_uri": "https://localhost:8080/",
     "height": 198
    },
    "id": "bEn-P-cKGvze",
    "outputId": "c11d0e2c-fc2d-48b9-fc94-3e8919299506"
   },
   "outputs": [],
   "source": [
    "gas2.head()"
   ]
  },
  {
   "cell_type": "markdown",
   "metadata": {},
   "source": [
    "같은 index 행끼리 연결됩니다."
   ]
  },
  {
   "cell_type": "code",
   "execution_count": null,
   "metadata": {
    "colab": {
     "base_uri": "https://localhost:8080/",
     "height": 597
    },
    "id": "rbMYMxTMGvzf",
    "outputId": "b747d1b3-ddcd-4bd2-f690-1b9cdcb489b8"
   },
   "outputs": [],
   "source": [
    "pd.concat([gas1, gas2], axis=1)"
   ]
  },
  {
   "cell_type": "markdown",
   "metadata": {
    "id": "Yhjp7h0DGvzg"
   },
   "source": [
    "## merge() - 병합\n",
    "\n",
    "서로 **다른 구성의 DataFrame이지만, 공통된 key값(컬럼)을 가지고 있다면 병합**할 수 있습니다."
   ]
  },
  {
   "cell_type": "code",
   "execution_count": null,
   "metadata": {
    "colab": {
     "base_uri": "https://localhost:8080/",
     "height": 198
    },
    "id": "iAqmUU2nGvzg",
    "outputId": "71ebfae2-d44a-4f95-b65b-3b89ab5cb40f"
   },
   "outputs": [],
   "source": [
    "df1 = pd.DataFrame({\n",
    "    '고객명': ['박세리', '이대호', '손흥민', '김연아', '마이클조던'],\n",
    "    '생년월일': ['1980-01-02', '1982-02-22', '1993-06-12', '1988-10-16', '1970-03-03'],\n",
    "    '성별': ['여자', '남자', '남자', '여자', '남자']})\n",
    "df1"
   ]
  },
  {
   "cell_type": "code",
   "execution_count": null,
   "metadata": {
    "colab": {
     "base_uri": "https://localhost:8080/",
     "height": 198
    },
    "id": "QoVqp3eLGvzh",
    "outputId": "9e7c425f-e460-4a61-93ea-f8b3392340e5"
   },
   "outputs": [],
   "source": [
    "df2 = pd.DataFrame({\n",
    "    '고객명': ['김연아', '박세리', '손흥민', '이대호', '타이거우즈'],\n",
    "    '연봉': ['2000원', '3000원', '1500원', '2500원', '3500원']})\n",
    "df2"
   ]
  },
  {
   "cell_type": "code",
   "execution_count": null,
   "metadata": {
    "colab": {
     "base_uri": "https://localhost:8080/",
     "height": 168
    },
    "id": "vOqjbVIdGvzi",
    "outputId": "ef5907e5-6583-4f2c-9359-545ac4163a4e"
   },
   "outputs": [],
   "source": [
    "pd.merge(df1, df2)"
   ]
  },
  {
   "cell_type": "markdown",
   "metadata": {},
   "source": [
    "### 병합하는 방법 4가지"
   ]
  },
  {
   "cell_type": "markdown",
   "metadata": {},
   "source": [
    "`how` 옵션 값을 지정하여 4가지 방식으로 병합을 할 수 있으며, 각기 다른 결과를 냅니다."
   ]
  },
  {
   "cell_type": "markdown",
   "metadata": {
    "id": "LpVP0c09Gvzj"
   },
   "source": [
    "- **how** : {`left`, `right`, `outer`, `inner`}, \n",
    "- **default**로 설정된 값은`inner` 입니다."
   ]
  },
  {
   "cell_type": "code",
   "execution_count": null,
   "metadata": {},
   "outputs": [],
   "source": [
    "# how='inner' 입니다.\n",
    "pd.merge(df1, df2)"
   ]
  },
  {
   "cell_type": "code",
   "execution_count": null,
   "metadata": {
    "colab": {
     "base_uri": "https://localhost:8080/",
     "height": 198
    },
    "id": "3wyqJzQKGvzj",
    "outputId": "31906038-0cee-4954-a20e-9a2c17886686"
   },
   "outputs": [],
   "source": [
    "pd.merge(df1, df2, how='left')"
   ]
  },
  {
   "cell_type": "code",
   "execution_count": null,
   "metadata": {
    "colab": {
     "base_uri": "https://localhost:8080/",
     "height": 198
    },
    "id": "H4cGV2w5Gvzk",
    "outputId": "c65b4d4c-a11a-42a1-ce19-31c035b3b876"
   },
   "outputs": [],
   "source": [
    "pd.merge(df1, df2, how='right')"
   ]
  },
  {
   "cell_type": "code",
   "execution_count": null,
   "metadata": {
    "colab": {
     "base_uri": "https://localhost:8080/",
     "height": 228
    },
    "id": "Um8cj6iTGvzl",
    "outputId": "565b73b5-d68e-4ee7-a463-eb59e36694fb"
   },
   "outputs": [],
   "source": [
    "pd.merge(df1, df2, how='outer')"
   ]
  },
  {
   "cell_type": "markdown",
   "metadata": {
    "id": "kSwQ_eZWGvzn"
   },
   "source": [
    "### 병합하려는 컬럼의 이름이 다른 경우"
   ]
  },
  {
   "cell_type": "code",
   "execution_count": null,
   "metadata": {
    "colab": {
     "base_uri": "https://localhost:8080/",
     "height": 198
    },
    "id": "ArUDADUlGvzn",
    "outputId": "788f2f4b-426a-47bd-a7a8-8dd9854f1e8e"
   },
   "outputs": [],
   "source": [
    "df1 = pd.DataFrame({\n",
    "    '이름': ['박세리', '이대호', '손흥민', '김연아', '마이클조던'],\n",
    "    '생년월일': ['1980-01-02', '1982-02-22', '1993-06-12', '1988-10-16', '1970-03-03'],\n",
    "    '성별': ['여자', '남자', '남자', '여자', '남자']})\n",
    "df1"
   ]
  },
  {
   "cell_type": "code",
   "execution_count": null,
   "metadata": {
    "colab": {
     "base_uri": "https://localhost:8080/",
     "height": 198
    },
    "id": "qaDhOhUpGvzo",
    "outputId": "d0c6366d-2901-4870-83ed-cb2bbc0ad622"
   },
   "outputs": [],
   "source": [
    "df2 = pd.DataFrame({\n",
    "    '고객명': ['김연아', '박세리', '손흥민', '이대호', '타이거우즈'],\n",
    "    '연봉': ['2000원', '3000원', '1500원', '2500원', '3500원']})\n",
    "df2"
   ]
  },
  {
   "cell_type": "markdown",
   "metadata": {},
   "source": [
    "`left_on`가 `right_on`을 지정합니다. \n",
    "\n",
    "이름과 고객명 컬럼이 모두 drop되지 않고 살아 있음을 확인합니다."
   ]
  },
  {
   "cell_type": "code",
   "execution_count": null,
   "metadata": {
    "colab": {
     "base_uri": "https://localhost:8080/",
     "height": 168
    },
    "id": "mmGfwwlpGvzo",
    "outputId": "6d481444-385a-44a8-8cb9-2c17f66b884b"
   },
   "outputs": [],
   "source": [
    "pd.merge(df1, df2, left_on='이름', right_on='고객명')"
   ]
  }
 ],
 "metadata": {
  "colab": {
   "collapsed_sections": [],
   "name": "08-pandas-concat-merge (실습)",
   "provenance": []
  },
  "kernelspec": {
   "display_name": "Python 3 (ipykernel)",
   "language": "python",
   "name": "python3"
  },
  "language_info": {
   "codemirror_mode": {
    "name": "ipython",
    "version": 3
   },
   "file_extension": ".py",
   "mimetype": "text/x-python",
   "name": "python",
   "nbconvert_exporter": "python",
   "pygments_lexer": "ipython3",
   "version": "3.11.5"
  }
 },
 "nbformat": 4,
 "nbformat_minor": 4
}
